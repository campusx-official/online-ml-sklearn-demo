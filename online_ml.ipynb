{
  "nbformat": 4,
  "nbformat_minor": 0,
  "metadata": {
    "colab": {
      "name": "online-ml.ipynb",
      "provenance": []
    },
    "kernelspec": {
      "name": "python3",
      "display_name": "Python 3"
    }
  },
  "cells": [
    {
      "cell_type": "code",
      "metadata": {
        "colab": {
          "base_uri": "https://localhost:8080/"
        },
        "id": "NGCMYXJi-SYg",
        "outputId": "ee8f8425-c53e-45ab-ca90-15b28256e76b"
      },
      "source": [
        "import numpy as np\r\n",
        "from sklearn import linear_model\r\n",
        "\r\n",
        "n_samples, n_features = 1, 500\r\n",
        "\r\n",
        "y = np.random.randn(n_samples)\r\n",
        "X = np.random.randn(n_samples, n_features)\r\n",
        "\r\n",
        "clf = linear_model.SGDRegressor()\r\n",
        "\r\n",
        "import time\r\n",
        "\r\n",
        "start_time = time.time()\r\n",
        "\r\n",
        "clf.partial_fit(X, y)\r\n",
        "\r\n",
        "elapsed_time = time.time() - start_time\r\n",
        "\r\n",
        "print(elapsed_time)"
      ],
      "execution_count": 1,
      "outputs": [
        {
          "output_type": "stream",
          "text": [
            "0.004430294036865234\n"
          ],
          "name": "stdout"
        }
      ]
    },
    {
      "cell_type": "code",
      "metadata": {
        "id": "mzN2rJFZ-bMO"
      },
      "source": [
        "y = np.random.randn(n_samples)\r\n",
        "X = np.random.randn(n_samples, n_features)"
      ],
      "execution_count": 2,
      "outputs": []
    },
    {
      "cell_type": "code",
      "metadata": {
        "colab": {
          "base_uri": "https://localhost:8080/"
        },
        "id": "jd75fgUa-k1c",
        "outputId": "6314b0f8-fb91-4526-9824-ea329050ae09"
      },
      "source": [
        "clf.partial_fit(X, y)"
      ],
      "execution_count": 3,
      "outputs": [
        {
          "output_type": "execute_result",
          "data": {
            "text/plain": [
              "SGDRegressor(alpha=0.0001, average=False, early_stopping=False, epsilon=0.1,\n",
              "             eta0=0.01, fit_intercept=True, l1_ratio=0.15,\n",
              "             learning_rate='invscaling', loss='squared_loss', max_iter=1000,\n",
              "             n_iter_no_change=5, penalty='l2', power_t=0.25, random_state=None,\n",
              "             shuffle=True, tol=0.001, validation_fraction=0.1, verbose=0,\n",
              "             warm_start=False)"
            ]
          },
          "metadata": {
            "tags": []
          },
          "execution_count": 3
        }
      ]
    },
    {
      "cell_type": "code",
      "metadata": {
        "id": "1ZGj_RO4-nCE"
      },
      "source": [
        ""
      ],
      "execution_count": null,
      "outputs": []
    }
  ]
}